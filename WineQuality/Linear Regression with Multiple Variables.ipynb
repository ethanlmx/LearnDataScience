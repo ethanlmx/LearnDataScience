{
 "cells": [
  {
   "cell_type": "code",
   "execution_count": 2,
   "metadata": {},
   "outputs": [],
   "source": [
    "import numpy as np\n",
    "import pandas as pd\n",
    "import matplotlib.pyplot as plt\n",
    "from sklearn import linear_model"
   ]
  },
  {
   "cell_type": "code",
   "execution_count": 3,
   "metadata": {},
   "outputs": [],
   "source": [
    "wine = pd.read_csv(\"winequality-red.csv\",sep=\";\")"
   ]
  },
  {
   "cell_type": "code",
   "execution_count": 8,
   "metadata": {},
   "outputs": [
    {
     "name": "stdout",
     "output_type": "stream",
     "text": [
      "                    Name  Coefficients\n",
      "7                density    -17.881164\n",
      "4              chlorides     -1.874225\n",
      "1       volatile acidity     -1.083590\n",
      "8                     pH     -0.413653\n",
      "2            citric acid     -0.182564\n",
      "6   total sulfur dioxide     -0.003265\n",
      "5    free sulfur dioxide      0.004361\n",
      "3         residual sugar      0.016331\n",
      "0          fixed acidity      0.024991\n",
      "10               alcohol      0.276198\n",
      "9              sulphates      0.916334\n",
      "21.96520844945205\n"
     ]
    }
   ],
   "source": [
    "lm = linear_model.LinearRegression()\n",
    "wine_except_quality = wine.drop(\"quality\", axis=1)\n",
    "X = wine_except_quality.values\n",
    "Y = wine['quality'].values\n",
    "lm.fit(X, Y)\n",
    "print(pd.DataFrame({\"Name\":wine_except_quality.columns,\n",
    "                    \"Coefficients\":lm.coef_}).sort_values(by='Coefficients') )\n",
    "print(lm.intercept_)"
   ]
  },
  {
   "cell_type": "code",
   "execution_count": 13,
   "metadata": {},
   "outputs": [
    {
     "data": {
      "text/html": [
       "<div>\n",
       "<style scoped>\n",
       "    .dataframe tbody tr th:only-of-type {\n",
       "        vertical-align: middle;\n",
       "    }\n",
       "\n",
       "    .dataframe tbody tr th {\n",
       "        vertical-align: top;\n",
       "    }\n",
       "\n",
       "    .dataframe thead th {\n",
       "        text-align: right;\n",
       "    }\n",
       "</style>\n",
       "<table border=\"1\" class=\"dataframe\">\n",
       "  <thead>\n",
       "    <tr style=\"text-align: right;\">\n",
       "      <th></th>\n",
       "      <th>fixed acidity</th>\n",
       "      <th>volatile acidity</th>\n",
       "      <th>citric acid</th>\n",
       "      <th>residual sugar</th>\n",
       "      <th>chlorides</th>\n",
       "      <th>free sulfur dioxide</th>\n",
       "      <th>total sulfur dioxide</th>\n",
       "      <th>density</th>\n",
       "      <th>pH</th>\n",
       "      <th>sulphates</th>\n",
       "      <th>alcohol</th>\n",
       "      <th>quality</th>\n",
       "    </tr>\n",
       "  </thead>\n",
       "  <tbody>\n",
       "    <tr>\n",
       "      <th>0</th>\n",
       "      <td>-0.081384</td>\n",
       "      <td>0.117931</td>\n",
       "      <td>-0.270976</td>\n",
       "      <td>-0.043754</td>\n",
       "      <td>-0.019143</td>\n",
       "      <td>-0.068661</td>\n",
       "      <td>-0.044056</td>\n",
       "      <td>0.077336</td>\n",
       "      <td>0.156604</td>\n",
       "      <td>-0.058772</td>\n",
       "      <td>-0.157382</td>\n",
       "      <td>-0.127205</td>\n",
       "    </tr>\n",
       "    <tr>\n",
       "      <th>1</th>\n",
       "      <td>-0.045986</td>\n",
       "      <td>0.241219</td>\n",
       "      <td>-0.270976</td>\n",
       "      <td>0.004191</td>\n",
       "      <td>0.017585</td>\n",
       "      <td>0.128522</td>\n",
       "      <td>0.072552</td>\n",
       "      <td>0.003915</td>\n",
       "      <td>-0.087491</td>\n",
       "      <td>0.013085</td>\n",
       "      <td>-0.095844</td>\n",
       "      <td>-0.127205</td>\n",
       "    </tr>\n",
       "    <tr>\n",
       "      <th>2</th>\n",
       "      <td>-0.045986</td>\n",
       "      <td>0.159027</td>\n",
       "      <td>-0.230976</td>\n",
       "      <td>-0.016357</td>\n",
       "      <td>0.007568</td>\n",
       "      <td>-0.012323</td>\n",
       "      <td>0.026616</td>\n",
       "      <td>0.018599</td>\n",
       "      <td>-0.040247</td>\n",
       "      <td>-0.004880</td>\n",
       "      <td>-0.095844</td>\n",
       "      <td>-0.127205</td>\n",
       "    </tr>\n",
       "    <tr>\n",
       "      <th>3</th>\n",
       "      <td>0.254899</td>\n",
       "      <td>-0.169740</td>\n",
       "      <td>0.289024</td>\n",
       "      <td>-0.043754</td>\n",
       "      <td>-0.020812</td>\n",
       "      <td>0.015846</td>\n",
       "      <td>0.047817</td>\n",
       "      <td>0.092021</td>\n",
       "      <td>-0.118987</td>\n",
       "      <td>-0.046796</td>\n",
       "      <td>-0.095844</td>\n",
       "      <td>0.072795</td>\n",
       "    </tr>\n",
       "    <tr>\n",
       "      <th>4</th>\n",
       "      <td>-0.081384</td>\n",
       "      <td>0.117931</td>\n",
       "      <td>-0.270976</td>\n",
       "      <td>-0.043754</td>\n",
       "      <td>-0.019143</td>\n",
       "      <td>-0.068661</td>\n",
       "      <td>-0.044056</td>\n",
       "      <td>0.077336</td>\n",
       "      <td>0.156604</td>\n",
       "      <td>-0.058772</td>\n",
       "      <td>-0.157382</td>\n",
       "      <td>-0.127205</td>\n",
       "    </tr>\n",
       "  </tbody>\n",
       "</table>\n",
       "</div>"
      ],
      "text/plain": [
       "   fixed acidity  volatile acidity  citric acid  residual sugar  chlorides  \\\n",
       "0      -0.081384          0.117931    -0.270976       -0.043754  -0.019143   \n",
       "1      -0.045986          0.241219    -0.270976        0.004191   0.017585   \n",
       "2      -0.045986          0.159027    -0.230976       -0.016357   0.007568   \n",
       "3       0.254899         -0.169740     0.289024       -0.043754  -0.020812   \n",
       "4      -0.081384          0.117931    -0.270976       -0.043754  -0.019143   \n",
       "\n",
       "   free sulfur dioxide  total sulfur dioxide   density        pH  sulphates  \\\n",
       "0            -0.068661             -0.044056  0.077336  0.156604  -0.058772   \n",
       "1             0.128522              0.072552  0.003915 -0.087491   0.013085   \n",
       "2            -0.012323              0.026616  0.018599 -0.040247  -0.004880   \n",
       "3             0.015846              0.047817  0.092021 -0.118987  -0.046796   \n",
       "4            -0.068661             -0.044056  0.077336  0.156604  -0.058772   \n",
       "\n",
       "    alcohol   quality  \n",
       "0 -0.157382 -0.127205  \n",
       "1 -0.095844 -0.127205  \n",
       "2 -0.095844 -0.127205  \n",
       "3 -0.095844  0.072795  \n",
       "4 -0.157382 -0.127205  "
      ]
     },
     "execution_count": 13,
     "metadata": {},
     "output_type": "execute_result"
    }
   ],
   "source": [
    "wine2 = wine.apply(lambda x: (x - np.mean(x)) / (np.max(x) - np.min(x)))\n",
    "wine2.head()"
   ]
  },
  {
   "cell_type": "code",
   "execution_count": 14,
   "metadata": {},
   "outputs": [
    {
     "name": "stdout",
     "output_type": "stream",
     "text": [
      "                    Name  Coefficients\n",
      "2            citric acid      0.036513\n",
      "3         residual sugar      0.047687\n",
      "7                density      0.048708\n",
      "0          fixed acidity      0.056479\n",
      "5    free sulfur dioxide      0.061931\n",
      "8                     pH      0.105068\n",
      "6   total sulfur dioxide      0.184775\n",
      "4              chlorides      0.224532\n",
      "9              sulphates      0.306056\n",
      "1       volatile acidity      0.316408\n",
      "10               alcohol      0.359057\n",
      "1.270155865645086e-15\n"
     ]
    }
   ],
   "source": [
    "wine2_except_quality = wine2.drop(\"quality\", axis=1)\n",
    "X = wine2_except_quality.values\n",
    "Y = wine2['quality'].values\n",
    "lm.fit(X, Y)\n",
    "print(pd.DataFrame({\"Name\":wine2_except_quality.columns,\n",
    "                    \"Coefficients\":np.abs(lm.coef_)}).sort_values(by='Coefficients') )\n",
    "print(lm.intercept_)"
   ]
  },
  {
   "cell_type": "code",
   "execution_count": null,
   "metadata": {},
   "outputs": [],
   "source": []
  }
 ],
 "metadata": {
  "kernelspec": {
   "display_name": "Python 3",
   "language": "python",
   "name": "python3"
  },
  "language_info": {
   "codemirror_mode": {
    "name": "ipython",
    "version": 3
   },
   "file_extension": ".py",
   "mimetype": "text/x-python",
   "name": "python",
   "nbconvert_exporter": "python",
   "pygments_lexer": "ipython3",
   "version": "3.7.6"
  }
 },
 "nbformat": 4,
 "nbformat_minor": 4
}
